{
 "cells": [
  {
   "cell_type": "code",
   "execution_count": 2,
   "metadata": {},
   "outputs": [],
   "source": [
    "import pandas as pd \n",
    "import numpy as np \n",
    "import fuzzywuzzy\n",
    "import seaborn as sns"
   ]
  },
  {
   "cell_type": "markdown",
   "metadata": {},
   "source": [
    "# Clean Lemmas.csv"
   ]
  },
  {
   "cell_type": "code",
   "execution_count": 14,
   "metadata": {},
   "outputs": [],
   "source": [
    "lemmas_df = pd.read_csv('./classified_lemmas_merged.csv')\n",
    "import pandas as pd\n",
    "\n",
    "# Example DataFrame load (replace with your actual loading code)\n",
    "# lemmas_df = pd.read_csv('your_file.csv')\n",
    "\n",
    "# Update the 'Doc' column to have the format 'N' followed by three digits\n",
    "lemmas_df['Doc'] = lemmas_df['Doc'].apply(lambda x: f'N{x:03d}')\n",
    "\n",
    "# Example: If x = 5, it formats to 'N005'; if x = 1523, it formats to 'N1523'\n"
   ]
  },
  {
   "cell_type": "code",
   "execution_count": 15,
   "metadata": {},
   "outputs": [],
   "source": [
    "\n",
    "\n",
    "# Load your data\n",
    "# Assuminglemmas_df is your DataFrame loaded with the data shown in the screenshot\n",
    "\n",
    "# Split and explode the 'Emotions' column\n",
    "lemmas_df['Emotions'] =lemmas_df['Emotions'].str.split('|')\n",
    "lemmas_df =lemmas_df.explode('Emotions')\n",
    "\n",
    "# Split and explode the 'Topics' column\n",
    "lemmas_df['Topics'] =lemmas_df['Topics'].str.split('|')\n",
    "lemmas_df =lemmas_df.explode('Topics')\n",
    "\n",
    "# Clean up any leading/trailing whitespace\n",
    "lemmas_df['Emotions'] =lemmas_df['Emotions'].str.strip()\n",
    "lemmas_df['Topics'] =lemmas_df['Topics'].str.strip()\n",
    "\n",
    "# Save the transformed DataFrame to a new CSV (optional)\n",
    "lemmas_df.to_csv('transformed_for_tableau.csv', index=False)\n"
   ]
  }
 ],
 "metadata": {
  "kernelspec": {
   "display_name": "venv",
   "language": "python",
   "name": "python3"
  },
  "language_info": {
   "codemirror_mode": {
    "name": "ipython",
    "version": 3
   },
   "file_extension": ".py",
   "mimetype": "text/x-python",
   "name": "python",
   "nbconvert_exporter": "python",
   "pygments_lexer": "ipython3",
   "version": "3.12.0"
  }
 },
 "nbformat": 4,
 "nbformat_minor": 2
}
